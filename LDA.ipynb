{
  "nbformat": 4,
  "nbformat_minor": 0,
  "metadata": {
    "colab": {
      "name": "LDA.ipynb",
      "provenance": [],
      "collapsed_sections": [],
      "authorship_tag": "ABX9TyO3wrmsNuRfmRiT5u1JWb36",
      "include_colab_link": true
    },
    "kernelspec": {
      "name": "python3",
      "display_name": "Python 3"
    }
  },
  "cells": [
    {
      "cell_type": "markdown",
      "metadata": {
        "id": "view-in-github",
        "colab_type": "text"
      },
      "source": [
        "<a href=\"https://colab.research.google.com/github/ShwetaBaranwal/Topic_Modelling/blob/master/LDA.ipynb\" target=\"_parent\"><img src=\"https://colab.research.google.com/assets/colab-badge.svg\" alt=\"Open In Colab\"/></a>"
      ]
    },
    {
      "cell_type": "markdown",
      "metadata": {
        "id": "ZMPHlDA5dZEx",
        "colab_type": "text"
      },
      "source": [
        "Importing packages"
      ]
    },
    {
      "cell_type": "code",
      "metadata": {
        "id": "FHlmf97t4Qoi",
        "colab_type": "code",
        "colab": {}
      },
      "source": [
        "from time import time\n",
        "\n",
        "from sklearn.feature_extraction.text import TfidfVectorizer, CountVectorizer\n",
        "from sklearn.decomposition import LatentDirichletAllocation\n",
        "from sklearn.datasets import fetch_20newsgroups\n",
        "import numpy as np\n",
        "import nltk\n",
        "import re\n"
      ],
      "execution_count": 0,
      "outputs": []
    },
    {
      "cell_type": "markdown",
      "metadata": {
        "id": "3q0abluFdddC",
        "colab_type": "text"
      },
      "source": [
        "n_features is the vocab size (V)\n",
        "\n",
        "n_components is the #topics (k)\n"
      ]
    },
    {
      "cell_type": "code",
      "metadata": {
        "id": "5V1rAxRL8zx3",
        "colab_type": "code",
        "colab": {}
      },
      "source": [
        "n_features = 1000\n",
        "n_components = 10\n",
        "#for printing top words of the topic \n",
        "n_top_words = 20\n"
      ],
      "execution_count": 0,
      "outputs": []
    },
    {
      "cell_type": "markdown",
      "metadata": {
        "id": "Oh5a1Zd3ehuZ",
        "colab_type": "text"
      },
      "source": [
        "##Loading newpaper articles dataset"
      ]
    },
    {
      "cell_type": "code",
      "metadata": {
        "id": "tWhLhQdo53rE",
        "colab_type": "code",
        "outputId": "66d92dfb-a048-4a3d-c7dd-d8c9fadb9a1d",
        "colab": {
          "base_uri": "https://localhost:8080/",
          "height": 121
        }
      },
      "source": [
        "print(\"Loading dataset...\")\n",
        "t0 = time()\n",
        "\n",
        "categories = ['rec.sport.baseball', 'talk.religion.misc', 'comp.graphics', 'sci.space']\n",
        "remove = ('headers', 'footers', 'quotes')\n",
        "newsgroups_train = fetch_20newsgroups(subset='train', categories=categories, remove=remove)\n",
        "newsgroups_test = fetch_20newsgroups(subset='test', categories=categories, remove=remove)\n",
        "\n",
        "print(\"total #reviews in training = {}\".format(len(newsgroups_train.filenames)))\n",
        "print(\"total #reviews in test = {}\".format(len(newsgroups_test.filenames)))\n",
        "\n",
        "print(\"done in %0.3fs.\" % (time() - t0))\n"
      ],
      "execution_count": 0,
      "outputs": [
        {
          "output_type": "stream",
          "text": [
            "Downloading 20news dataset. This may take a few minutes.\n",
            "Downloading dataset from https://ndownloader.figshare.com/files/5975967 (14 MB)\n"
          ],
          "name": "stderr"
        },
        {
          "output_type": "stream",
          "text": [
            "Loading dataset...\n",
            "total #reviews in training = 2151\n",
            "total #reviews in test = 1431\n",
            "done in 11.672s.\n"
          ],
          "name": "stdout"
        }
      ]
    },
    {
      "cell_type": "code",
      "metadata": {
        "id": "BaEtIX4oYDOJ",
        "colab_type": "code",
        "outputId": "e456bce1-0d57-43dd-f54e-b2f976aa7236",
        "colab": {
          "base_uri": "https://localhost:8080/",
          "height": 35
        }
      },
      "source": [
        "newsgroups_train.keys()"
      ],
      "execution_count": 0,
      "outputs": [
        {
          "output_type": "execute_result",
          "data": {
            "text/plain": [
              "dict_keys(['data', 'filenames', 'target_names', 'target', 'DESCR'])"
            ]
          },
          "metadata": {
            "tags": []
          },
          "execution_count": 5
        }
      ]
    },
    {
      "cell_type": "code",
      "metadata": {
        "id": "By_fvAQF6ZSa",
        "colab_type": "code",
        "outputId": "4dfada1f-f459-4615-887a-3ff981df0948",
        "colab": {
          "base_uri": "https://localhost:8080/",
          "height": 106
        }
      },
      "source": [
        "newsgroups_train.data[:4]"
      ],
      "execution_count": 0,
      "outputs": [
        {
          "output_type": "execute_result",
          "data": {
            "text/plain": [
              "[': >Based on the amount of E-Mail from fellow Christians who have read the\\n: >posts and told me I was wasting my time with Butler and Joslin, I told\\n: >them I wasn\\'t doing it for DB or  DJ but for other Christians.  They\\n: >have told me that DB\\'s and DJ\\'s arguments won\\'t convince most Bible\\n: >studying Christians.  So I have reevaluated my purpose here and it\\'s\\n: >also contributed to my decision.\\n\\n: So most Bible-studying Christians won\\'t be convinced by my arguments? \\n: And this is supposed to be a Good Thing, I presume?\\n\\nWhere does this \"Most Bible studying Christians think as Frank\\ndoes\" come from.  And what implied \"good\" are you doing for other\\nChristians?\\n\\nAt least some of what you are teaching has been demonstrated as\\nwrong.  Has it ever occured to you that you may be doing more harm\\nthan good to your fellow Christians?\\n\\nBTW, I used to think like Frank does.  I went to a fundamentalist\\nchurch for a while.  I didn\\'t start to really think about what\\nthey were saying until I noticed a \"God\\'s Science\" phamphlet\\nthere.  I read it and noticed that the authors of it knew virtually\\nnothing about Science.  I asked church members some questions about\\n\"theories\" from the phamphlet and got only deceptive answers.  I\\nbegan to notice a very similar style of \"answers\" for theological\\nquestions as well.  The only conclusion I could reach was that\\nthese peoples\\' beliefs about the Bible were about as valid as\\ntheir beliefs in their God\\'s Science phamphlet.\\n\\n: If there are still people out there who think that my purpose here\\n: is to \"attack the Bible,\" (an accusation Frank once made) I would point\\n: out that I have also criticized people who have posted \"bible\\n: contradictions\" that turn out to be silly, out of context, or easily\\n: (and legitimately) reconciled.  I\\'m not attacking the Bible, but \\n: intellectual dishonesty *about* the Bible, from either side.\\n\\nIf one of the primary purposes of Christians is to seek out truth,\\nhow can people condemn you for doing this?\\n',\n",
              " \"\\nWell, looking at the videos it seems that this fire started in various\\nplaces at the same time, which would indicate that this was a planned\\naction. I'm sure FBI and BATF didn't *deliberately* start a possible\\nfire, having a sniper kill Korresh would have been a far easier \\nmethod. Looking at the careful operation, and use of tear gas\\nthat as I know don't start fires, it is less likely that this \\nwas the case.\\n\\nSorry, but my bets are on fanatical people keen to start\\nArmageddon -- theirs.\\n\\nCheers,\\nKent\",\n",
              " \"know \\nhe \\nnow.\\n\\nAnd Michael Jackson, Jack Nicholson, and Bill Cosby wouldn't be \\nmaking near as much money if they weren't entertainers. So what's\\nyour point?\\n\\nfor a \\nhurting.\\n\\nWill they?  You can't usually take away one of the team's best\\nplayers and still expect them to win.  Or do you think the \\nPirates will continue to win without Barry Bonds.\\n\\nathletic \\nworking\\n\\nSo. Again, Jack Nicholson gets paid much more than most hard\\nworking citizens (and much more than Rickey Henderson for that\\nmatter). \\n\\nwhen the\\nmillion--also,\\n\\nThe reason the latter often happens is that many of these folks\\nstart making the real big salaries late in their career, when they\\nare on the decline. (There are exceptions, of course. Dave Parker\\nfell apart after making his first million because he put most\\nof that million up his nose.)\\n\",\n",
              " '\\nVoyager  has the unusual  luck to be on a stable trajectory out of the\\nsolar system.   All it\\'s doing is collecting  fields  data,  and routinely\\nsquirting it down.  One of the mariners is also in stable\\nsolar orbit,  and still providing similiar  solar data.  \\n\\nSomething  in a planetary orbit,  is subject to much more complex forces.\\n\\nComsats, in \"stable \" geosynch  orbits,  require  almost daily\\nstationkeeping operations.   \\n\\nFor the occasional  deep space bird,  like PFF  after pluto,  sure\\nit could be left on  \"auto-pilot\".  but things like  galileo or\\nmagellan,  i\\'d suspect they need enough  housekeeping that\\neven untended they\\'d  end up unusable after a while.\\n\\nThe better question  should be.\\n\\nWhy not transfer  O&M of all birds to a separate agency with continous funding\\nto support these kind of ongoing science missions.\\n\\npat\\n\\n\\tWhen ongoing ops are mentioned,  it seems to  always quote  Operations\\nand Data analysis.  how much would it cost to collect the data\\nand let it be analyzed  whenever.  kinda like all that landsat data\\nthat sat around for 15 years before someone analyzed it for the ozone hole.']"
            ]
          },
          "metadata": {
            "tags": []
          },
          "execution_count": 6
        }
      ]
    },
    {
      "cell_type": "code",
      "metadata": {
        "id": "VErPDbUAXpDN",
        "colab_type": "code",
        "outputId": "fd124b54-e3b4-44ca-fa27-ab184bfd7551",
        "colab": {
          "base_uri": "https://localhost:8080/",
          "height": 35
        }
      },
      "source": [
        "newsgroups_train.target[:4]"
      ],
      "execution_count": 0,
      "outputs": [
        {
          "output_type": "execute_result",
          "data": {
            "text/plain": [
              "array([3, 3, 1, 2])"
            ]
          },
          "metadata": {
            "tags": []
          },
          "execution_count": 7
        }
      ]
    },
    {
      "cell_type": "code",
      "metadata": {
        "id": "PXqzAaGzY4b3",
        "colab_type": "code",
        "outputId": "4ec94f83-05f7-47ad-d9c1-3d33db0dcbc8",
        "colab": {
          "base_uri": "https://localhost:8080/",
          "height": 35
        }
      },
      "source": [
        "[newsgroups_train.target_names[i] for i in newsgroups_train.target[:4]]\n"
      ],
      "execution_count": 0,
      "outputs": [
        {
          "output_type": "execute_result",
          "data": {
            "text/plain": [
              "['talk.religion.misc', 'talk.religion.misc', 'rec.sport.baseball', 'sci.space']"
            ]
          },
          "metadata": {
            "tags": []
          },
          "execution_count": 8
        }
      ]
    },
    {
      "cell_type": "code",
      "metadata": {
        "id": "6UovcJuUb1EQ",
        "colab_type": "code",
        "colab": {}
      },
      "source": [
        ""
      ],
      "execution_count": 0,
      "outputs": []
    },
    {
      "cell_type": "markdown",
      "metadata": {
        "id": "2J60olsLet_I",
        "colab_type": "text"
      },
      "source": [
        "##Cleaning data\n",
        "\n",
        "####Removing punctuations and converting to lower case"
      ]
    },
    {
      "cell_type": "code",
      "metadata": {
        "id": "v_qYTe2Fbz-J",
        "colab_type": "code",
        "colab": {}
      },
      "source": [
        "def data_clean(data):\n",
        "  # Remove punctuation\n",
        "  data_samples_processed = list(map(lambda x: re.sub('[\\d+{}\\.!?>\"/#$&%;=:<()--\\n@\\t]', '', x), data))\n",
        "  print(\"after removing punctuation\\n\")\n",
        "  print(\"\\n\".join(data_samples_processed[:3]))\n",
        "\n",
        "  # Convert the titles to lowercase\n",
        "  data_samples_processed_lower = list(map(lambda x: x.lower(), data_samples_processed))\n",
        "  print(\"\\nafter converting to lowercase\\n\")\n",
        "  print(\"\\n\".join(data_samples_processed_lower[:3]))\n",
        "\n",
        "  return data_samples_processed_lower"
      ],
      "execution_count": 0,
      "outputs": []
    },
    {
      "cell_type": "code",
      "metadata": {
        "id": "-MvE5xO7dMCo",
        "colab_type": "code",
        "outputId": "d47bcf7a-4579-4b02-e0b6-6f9079675209",
        "colab": {
          "base_uri": "https://localhost:8080/",
          "height": 227
        }
      },
      "source": [
        "training_data = data_clean(newsgroups_train.data)"
      ],
      "execution_count": 0,
      "outputs": [
        {
          "output_type": "stream",
          "text": [
            "after removing punctuation\n",
            "\n",
            " Based on the amount of EMail from fellow Christians who have read the posts and told me I was wasting my time with Butler and Joslin I told them I wasn't doing it for DB or  DJ but for other Christians  They have told me that DB's and DJ's arguments won't convince most Bible studying Christians  So I have reevaluated my purpose here and it's also contributed to my decision So most Biblestudying Christians won't be convinced by my arguments  And this is supposed to be a Good Thing I presumeWhere does this Most Bible studying Christians think as Frankdoes come from  And what implied good are you doing for otherChristiansAt least some of what you are teaching has been demonstrated aswrong  Has it ever occured to you that you may be doing more harmthan good to your fellow ChristiansBTW I used to think like Frank does  I went to a fundamentalistchurch for a while  I didn't start to really think about whatthey were saying until I noticed a God's Science phamphletthere  I read it and noticed that the authors of it knew virtuallynothing about Science  I asked church members some questions abouttheories from the phamphlet and got only deceptive answers  Ibegan to notice a very similar style of answers for theologicalquestions as well  The only conclusion I could reach was thatthese peoples' beliefs about the Bible were about as valid astheir beliefs in their God's Science phamphlet If there are still people out there who think that my purpose here is to attack the Bible an accusation Frank once made I would point out that I have also criticized people who have posted bible contradictions that turn out to be silly out of context or easily and legitimately reconciled  I'm not attacking the Bible but  intellectual dishonesty about the Bible from either sideIf one of the primary purposes of Christians is to seek out truthhow can people condemn you for doing this\n",
            "Well looking at the videos it seems that this fire started in variousplaces at the same time which would indicate that this was a plannedaction I'm sure FBI and BATF didn't deliberately start a possiblefire having a sniper kill Korresh would have been a far easier method Looking at the careful operation and use of tear gasthat as I know don't start fires it is less likely that this was the caseSorry but my bets are on fanatical people keen to startArmageddon  theirsCheersKent\n",
            "know he nowAnd Michael Jackson Jack Nicholson and Bill Cosby wouldn't be making near as much money if they weren't entertainers So what'syour pointfor a hurtingWill they  You can't usually take away one of the team's bestplayers and still expect them to win  Or do you think the Pirates will continue to win without Barry Bondsathletic workingSo Again Jack Nicholson gets paid much more than most hardworking citizens and much more than Rickey Henderson for thatmatter when themillionalsoThe reason the latter often happens is that many of these folksstart making the real big salaries late in their career when theyare on the decline There are exceptions of course Dave Parkerfell apart after making his first million because he put mostof that million up his nose\n",
            "\n",
            "after converting to lowercase\n",
            "\n",
            " based on the amount of email from fellow christians who have read the posts and told me i was wasting my time with butler and joslin i told them i wasn't doing it for db or  dj but for other christians  they have told me that db's and dj's arguments won't convince most bible studying christians  so i have reevaluated my purpose here and it's also contributed to my decision so most biblestudying christians won't be convinced by my arguments  and this is supposed to be a good thing i presumewhere does this most bible studying christians think as frankdoes come from  and what implied good are you doing for otherchristiansat least some of what you are teaching has been demonstrated aswrong  has it ever occured to you that you may be doing more harmthan good to your fellow christiansbtw i used to think like frank does  i went to a fundamentalistchurch for a while  i didn't start to really think about whatthey were saying until i noticed a god's science phamphletthere  i read it and noticed that the authors of it knew virtuallynothing about science  i asked church members some questions abouttheories from the phamphlet and got only deceptive answers  ibegan to notice a very similar style of answers for theologicalquestions as well  the only conclusion i could reach was thatthese peoples' beliefs about the bible were about as valid astheir beliefs in their god's science phamphlet if there are still people out there who think that my purpose here is to attack the bible an accusation frank once made i would point out that i have also criticized people who have posted bible contradictions that turn out to be silly out of context or easily and legitimately reconciled  i'm not attacking the bible but  intellectual dishonesty about the bible from either sideif one of the primary purposes of christians is to seek out truthhow can people condemn you for doing this\n",
            "well looking at the videos it seems that this fire started in variousplaces at the same time which would indicate that this was a plannedaction i'm sure fbi and batf didn't deliberately start a possiblefire having a sniper kill korresh would have been a far easier method looking at the careful operation and use of tear gasthat as i know don't start fires it is less likely that this was the casesorry but my bets are on fanatical people keen to startarmageddon  theirscheerskent\n",
            "know he nowand michael jackson jack nicholson and bill cosby wouldn't be making near as much money if they weren't entertainers so what'syour pointfor a hurtingwill they  you can't usually take away one of the team's bestplayers and still expect them to win  or do you think the pirates will continue to win without barry bondsathletic workingso again jack nicholson gets paid much more than most hardworking citizens and much more than rickey henderson for thatmatter when themillionalsothe reason the latter often happens is that many of these folksstart making the real big salaries late in their career when theyare on the decline there are exceptions of course dave parkerfell apart after making his first million because he put mostof that million up his nose\n"
          ],
          "name": "stdout"
        }
      ]
    },
    {
      "cell_type": "code",
      "metadata": {
        "id": "WypqST_ofDhp",
        "colab_type": "code",
        "outputId": "b80a77a9-8770-4782-e633-68cc02a14d36",
        "colab": {
          "base_uri": "https://localhost:8080/",
          "height": 227
        }
      },
      "source": [
        "test_data = data_clean(newsgroups_test.data)"
      ],
      "execution_count": 0,
      "outputs": [
        {
          "output_type": "stream",
          "text": [
            "after removing punctuation\n",
            "\n",
            "I understand the when one is in orbit the inward force of gravity atone's center of mass is exactly balanced by the outward centrifugalforce from the orbiting motion resulting in weightlessness I want to know what weightlessness actually FEELS like For example isthere a constant sensation of falling And what is the motion sicknessthat some astronauts occasionally experience  Please reply only if you are either a former or current astronaut or someone who has had this discussion firsthand with an astronaut Thanks\n",
            "T H E  G R A P H I C S  B B S                                                                                                                                                                                                                                                                                                                                                                                        rentcom         It's better than a sharp stick in the eye  Andy Meyer   We are pleased to announce that we have just upgraded our system to a   new Hayes Ultra  VbisVbis modem that will allow connections   from bps up to bpsFeaturing   o    A graphics specific system for those of you interested in        such things as D graphics image processing animation        clipart and the latest in public domain graphics programs   o    Graphics specific mailing lists such as Imagine D DCTV        and Lightwave D mailing lists aliased to easy to read        forums which you can join and read  Many more to come   o    FREE UseNet access and free netmail to sites all over the        world  The ability to contact softwarehardware developers        right at their mainframes just by sending them netmail from        The Graphics BBS  Not to mention your kids at college or your        parents FROM college        With our quick connections and reliable links you can have        your mail sent around the world in a matter of minutes   o    A unique conference Bulletin section  The abilty to join        and keep track of only the conferences that you enjoy        The ability to read in files from your own personal file area        for use in messages  Also with proper access you can create        your own conference and moderate it   o    Newsfeeds from USENET that include topics such as graphics        Mac Amiga IBM science erotica ham radio Star Trek        scuba diving programmers forums game designers forums and        cyberspace forums   o    The most sophisticated but easy to learn and use mail system        ever created for a PC  You can easily read your mail delete        it or move it to your personal directory for storage and reply        to it  You can attach files to your mail and send it to        another member  A smart sendmail feature ensures accurate        addressing of netmail   o    Ability to send mail and messages to ArpaNet USENET Internet        BITNET and any of the networks that interface with them around the             world such as Fidonet PeopleNet and the UUCP network of university        and research facility systems   o    A file library containing downloads for most popular computers        featuring an easy to learn and use system  The library features        master directory listing newscan and search capabilities as        well as complete Archived file listings        The file library supports most popular transfer protocols        such as XYZ modem as well as advance protocols such as        HSLink and BiModem        The file library also doubles as a fileserver for users from        other sites all around the world   o    Complete control over your environment  You select whether        you want hotkey control menus more prompting etc  You        can define your cancel key and choose your terminal emulation        You can also edit your personal login script to do what you        want it to do   o    Online Games Global War Jet Combat Simulator etc  New        games to be added   o    Online manual and extensive help facilities Complete tracking        of online usage time   o     megabytes of storage   The Graphics BBS currently runs on an IBM AT at mHz with  meg of   RAM   meg IDE   drive                Call The Graphics BBS at                 Baud  hours a day everyday\n",
            "I believe Acker got a ring from his wife when they were married I don't know why you guys keep bickering about Morris The stats show heis a mediocre pitcher at best this year is another case he just happenedto win  games I saw many of his games last year he did pitch some goodgames But this crap about being a clutch pitcher is nonsense he was constantly giving up go ahead runs in the th innings the clutch inningsand the Jays would somehow scrape a win for him Another major factor inhis  wins is that Cito 'I dont realize i have a bullpen' Gaston wouldleave Morris in for ever therefore giving him many more chances to wingames i believe this is the major reason he won  games last yearBarry WalkerBNR OttawaCanada\n",
            "\n",
            "after converting to lowercase\n",
            "\n",
            "i understand the when one is in orbit the inward force of gravity atone's center of mass is exactly balanced by the outward centrifugalforce from the orbiting motion resulting in weightlessness i want to know what weightlessness actually feels like for example isthere a constant sensation of falling and what is the motion sicknessthat some astronauts occasionally experience  please reply only if you are either a former or current astronaut or someone who has had this discussion firsthand with an astronaut thanks\n",
            "t h e  g r a p h i c s  b b s                                                                                                                                                                                                                                                                                                                                                                                        rentcom         it's better than a sharp stick in the eye  andy meyer   we are pleased to announce that we have just upgraded our system to a   new hayes ultra  vbisvbis modem that will allow connections   from bps up to bpsfeaturing   o    a graphics specific system for those of you interested in        such things as d graphics image processing animation        clipart and the latest in public domain graphics programs   o    graphics specific mailing lists such as imagine d dctv        and lightwave d mailing lists aliased to easy to read        forums which you can join and read  many more to come   o    free usenet access and free netmail to sites all over the        world  the ability to contact softwarehardware developers        right at their mainframes just by sending them netmail from        the graphics bbs  not to mention your kids at college or your        parents from college        with our quick connections and reliable links you can have        your mail sent around the world in a matter of minutes   o    a unique conference bulletin section  the abilty to join        and keep track of only the conferences that you enjoy        the ability to read in files from your own personal file area        for use in messages  also with proper access you can create        your own conference and moderate it   o    newsfeeds from usenet that include topics such as graphics        mac amiga ibm science erotica ham radio star trek        scuba diving programmers forums game designers forums and        cyberspace forums   o    the most sophisticated but easy to learn and use mail system        ever created for a pc  you can easily read your mail delete        it or move it to your personal directory for storage and reply        to it  you can attach files to your mail and send it to        another member  a smart sendmail feature ensures accurate        addressing of netmail   o    ability to send mail and messages to arpanet usenet internet        bitnet and any of the networks that interface with them around the             world such as fidonet peoplenet and the uucp network of university        and research facility systems   o    a file library containing downloads for most popular computers        featuring an easy to learn and use system  the library features        master directory listing newscan and search capabilities as        well as complete archived file listings        the file library supports most popular transfer protocols        such as xyz modem as well as advance protocols such as        hslink and bimodem        the file library also doubles as a fileserver for users from        other sites all around the world   o    complete control over your environment  you select whether        you want hotkey control menus more prompting etc  you        can define your cancel key and choose your terminal emulation        you can also edit your personal login script to do what you        want it to do   o    online games global war jet combat simulator etc  new        games to be added   o    online manual and extensive help facilities complete tracking        of online usage time   o     megabytes of storage   the graphics bbs currently runs on an ibm at at mhz with  meg of   ram   meg ide   drive                call the graphics bbs at                 baud  hours a day everyday\n",
            "i believe acker got a ring from his wife when they were married i don't know why you guys keep bickering about morris the stats show heis a mediocre pitcher at best this year is another case he just happenedto win  games i saw many of his games last year he did pitch some goodgames but this crap about being a clutch pitcher is nonsense he was constantly giving up go ahead runs in the th innings the clutch inningsand the jays would somehow scrape a win for him another major factor inhis  wins is that cito 'i dont realize i have a bullpen' gaston wouldleave morris in for ever therefore giving him many more chances to wingames i believe this is the major reason he won  games last yearbarry walkerbnr ottawacanada\n"
          ],
          "name": "stdout"
        }
      ]
    },
    {
      "cell_type": "code",
      "metadata": {
        "id": "nNsvjyfagLr4",
        "colab_type": "code",
        "outputId": "a75b9142-b518-4016-d07a-eae9c5f2eeb2",
        "colab": {
          "base_uri": "https://localhost:8080/",
          "height": 35
        }
      },
      "source": [
        "[newsgroups_test.target_names[i] for i in newsgroups_test.target[:3]]"
      ],
      "execution_count": 0,
      "outputs": [
        {
          "output_type": "execute_result",
          "data": {
            "text/plain": [
              "['sci.space', 'comp.graphics', 'rec.sport.baseball']"
            ]
          },
          "metadata": {
            "tags": []
          },
          "execution_count": 12
        }
      ]
    },
    {
      "cell_type": "code",
      "metadata": {
        "id": "WHfHINpEhKoY",
        "colab_type": "code",
        "colab": {}
      },
      "source": [
        ""
      ],
      "execution_count": 0,
      "outputs": []
    },
    {
      "cell_type": "code",
      "metadata": {
        "id": "FHm-_4Gf_isK",
        "colab_type": "code",
        "outputId": "06178af1-f707-4739-fed5-2ee646b49427",
        "colab": {
          "base_uri": "https://localhost:8080/",
          "height": 35
        }
      },
      "source": [
        "# from nltk import stem\n",
        "# l = stem.WordNetLemmatizer()\n",
        "# word_list = ['advance', 'advanced']\n",
        "# [l.lemmatize(i) for i in word_list]"
      ],
      "execution_count": 0,
      "outputs": [
        {
          "output_type": "execute_result",
          "data": {
            "text/plain": [
              "['advance', 'advanced']"
            ]
          },
          "metadata": {
            "tags": []
          },
          "execution_count": 60
        }
      ]
    },
    {
      "cell_type": "code",
      "metadata": {
        "id": "eITiWEyagqk4",
        "colab_type": "code",
        "colab": {}
      },
      "source": [
        "# from nltk import word_tokenize\n",
        "# from nltk import stem\n",
        "# nltk.download('punkt')\n",
        "# nltk.download('wordnet')\n",
        "\n",
        "# class LemmaTokenizer(object):\n",
        "#     def __init__(self):\n",
        "#         self.wnl = stem.WordNetLemmatizer()\n",
        "#     def __call__(self, doc):\n",
        "#         return [self.wnl.lemmatize(t) for t in word_tokenize(doc)]\n",
        "\n",
        "\n",
        "# tf_vectorizer = CountVectorizer( max_df=0.95, \n",
        "#                               min_df=2,\n",
        "#                               max_features=n_features,\n",
        "#                               stop_words='english', \n",
        "#                               tokenizer=LemmaTokenizer())\n"
      ],
      "execution_count": 0,
      "outputs": []
    },
    {
      "cell_type": "markdown",
      "metadata": {
        "id": "9hDdD93Xg5o5",
        "colab_type": "text"
      },
      "source": [
        "##Converting the document corpus into countvectorizer"
      ]
    },
    {
      "cell_type": "code",
      "metadata": {
        "id": "y3sX8Ce07QkQ",
        "colab_type": "code",
        "outputId": "764f7098-7add-4cb5-af4f-0e8ca771cf61",
        "colab": {
          "base_uri": "https://localhost:8080/",
          "height": 52
        }
      },
      "source": [
        "\n",
        "print(\"Use tf (raw term count) features for LDA.\")\n",
        "    \n",
        "tf_vectorizer = CountVectorizer(max_df=0.95, min_df=2,\n",
        "                                max_features=n_features,\n",
        "                                stop_words='english')\n",
        "t0 = time()\n",
        "tf = tf_vectorizer.fit_transform(training_data)\n",
        "print(\"done in %0.3fs.\" % (time() - t0))\n"
      ],
      "execution_count": 0,
      "outputs": [
        {
          "output_type": "stream",
          "text": [
            "Use tf (raw term count) features for LDA.\n",
            "done in 0.308s.\n"
          ],
          "name": "stdout"
        }
      ]
    },
    {
      "cell_type": "code",
      "metadata": {
        "id": "vyillTEg7Z1F",
        "colab_type": "code",
        "outputId": "2e086e0c-8470-4e30-8a5b-b20aceb7acba",
        "colab": {
          "base_uri": "https://localhost:8080/",
          "height": 35
        }
      },
      "source": [
        "tf.shape"
      ],
      "execution_count": 0,
      "outputs": [
        {
          "output_type": "execute_result",
          "data": {
            "text/plain": [
              "(2151, 1000)"
            ]
          },
          "metadata": {
            "tags": []
          },
          "execution_count": 14
        }
      ]
    },
    {
      "cell_type": "code",
      "metadata": {
        "id": "KUZgTQGAnKKV",
        "colab_type": "code",
        "outputId": "1813e1b3-d01f-4278-a810-c9e45ea629b7",
        "colab": {
          "base_uri": "https://localhost:8080/",
          "height": 363
        }
      },
      "source": [
        "tf_vectorizer.get_feature_names()[-20:]"
      ],
      "execution_count": 0,
      "outputs": [
        {
          "output_type": "execute_result",
          "data": {
            "text/plain": [
              "['words',\n",
              " 'work',\n",
              " 'working',\n",
              " 'works',\n",
              " 'world',\n",
              " 'worth',\n",
              " 'wouldn',\n",
              " 'write',\n",
              " 'writing',\n",
              " 'written',\n",
              " 'wrong',\n",
              " 'wrote',\n",
              " 'xv',\n",
              " 'yankees',\n",
              " 'year',\n",
              " 'years',\n",
              " 'yes',\n",
              " 'yesterday',\n",
              " 'york',\n",
              " 'young']"
            ]
          },
          "metadata": {
            "tags": []
          },
          "execution_count": 15
        }
      ]
    },
    {
      "cell_type": "code",
      "metadata": {
        "id": "S_ypANiHQtx9",
        "colab_type": "code",
        "outputId": "e1c256f8-6f28-4697-aeac-20b94cb5cbe0",
        "colab": {
          "base_uri": "https://localhost:8080/",
          "height": 363
        }
      },
      "source": [
        "tf_vectorizer.get_feature_names()[:20]"
      ],
      "execution_count": 0,
      "outputs": [
        {
          "output_type": "execute_result",
          "data": {
            "text/plain": [
              "['ability',\n",
              " 'able',\n",
              " 'accept',\n",
              " 'access',\n",
              " 'according',\n",
              " 'act',\n",
              " 'activities',\n",
              " 'acts',\n",
              " 'actual',\n",
              " 'actually',\n",
              " 'add',\n",
              " 'addition',\n",
              " 'address',\n",
              " 'advance',\n",
              " 'advanced',\n",
              " 'aerospace',\n",
              " 'age',\n",
              " 'agency',\n",
              " 'ago',\n",
              " 'agree']"
            ]
          },
          "metadata": {
            "tags": []
          },
          "execution_count": 16
        }
      ]
    },
    {
      "cell_type": "code",
      "metadata": {
        "id": "u2lusR8fCA_w",
        "colab_type": "code",
        "colab": {}
      },
      "source": [
        ""
      ],
      "execution_count": 0,
      "outputs": []
    },
    {
      "cell_type": "markdown",
      "metadata": {
        "id": "SBGaY0YVjTin",
        "colab_type": "text"
      },
      "source": [
        "##Implementing LDA"
      ]
    },
    {
      "cell_type": "code",
      "metadata": {
        "id": "0I7igMI-8NSE",
        "colab_type": "code",
        "outputId": "6d437719-2c09-439d-facb-98d957e19c37",
        "colab": {
          "base_uri": "https://localhost:8080/",
          "height": 52
        }
      },
      "source": [
        "print(\"Fitting LDA models with tf features, \"\n",
        "      \"n_samples=%d and n_features=%d...\"\n",
        "      % (len(training_data), n_features))\n",
        "# lda = LatentDirichletAllocation(n_components=n_components, max_iter=5,\n",
        "#                                 learning_method='online',\n",
        "#                                 learning_offset=50.,\n",
        "#                                 random_state=0)\n",
        "\n",
        "lda = LatentDirichletAllocation(n_components=n_components, max_iter=10,\n",
        "                                learning_method='batch',\n",
        "                                random_state=0)\n",
        "\n",
        "t0 = time()\n",
        "lda.fit(tf)\n",
        "print(\"done in %0.3fs.\" % (time() - t0))\n"
      ],
      "execution_count": 0,
      "outputs": [
        {
          "output_type": "stream",
          "text": [
            "Fitting LDA models with tf features, n_samples=2151 and n_features=1000...\n",
            "done in 6.460s.\n"
          ],
          "name": "stdout"
        }
      ]
    },
    {
      "cell_type": "code",
      "metadata": {
        "id": "m5JFjLZxp3jH",
        "colab_type": "code",
        "colab": {}
      },
      "source": [
        "def print_top_words(model, feature_names, n_top_words):\n",
        "    for topic_idx, topic in enumerate(model.components_):\n",
        "        message = \"Topic #%d: \" % topic_idx\n",
        "        message += \" \".join([feature_names[i]\n",
        "                             for i in topic.argsort()[:-n_top_words - 1:-1]])\n",
        "        print(message)\n",
        "    print()\n"
      ],
      "execution_count": 0,
      "outputs": []
    },
    {
      "cell_type": "markdown",
      "metadata": {
        "id": "IJAZ0Sp9j-Hf",
        "colab_type": "text"
      },
      "source": [
        "Printing top words from each topic"
      ]
    },
    {
      "cell_type": "code",
      "metadata": {
        "id": "u1Mbxma28nIe",
        "colab_type": "code",
        "outputId": "3aa486cd-411c-4b90-98f1-f8a5ee539501",
        "colab": {
          "base_uri": "https://localhost:8080/",
          "height": 262
        }
      },
      "source": [
        "print(\"\\nTopics in LDA model:\")\n",
        "tf_feature_names = tf_vectorizer.get_feature_names()\n",
        "print_top_words(lda, tf_feature_names, n_top_words)\n"
      ],
      "execution_count": 0,
      "outputs": [
        {
          "output_type": "stream",
          "text": [
            "\n",
            "Topics in LDA model:\n",
            "Topic #0: know does mr said article list jim just judas post new tyre day don read context think point greek email\n",
            "Topic #1: space launch nasa shuttle satellite lunar mission program new data commercial flight moon earth satellites technology station mars spacecraft solar\n",
            "Topic #2: like just don think know time ll did good really ve people didn say got sure make right lot going\n",
            "Topic #3: data image available information ftp email images software send graphics contact package processing use address mail user systems free program\n",
            "Topic #4: won lost game th hit new cubs york home fan san st games second phillies play ball reds run louis\n",
            "Topic #5: image jpeg file gif images color files bit format use version quality does programs mode don free display tiff convert\n",
            "Topic #6: year team good runs win better pitching points game games baseball average league best don years think braves season teams\n",
            "Topic #7: graphics program help like know need looking thanks use files hi problem computer ve card want code advance line ray\n",
            "Topic #8: god people jesus bible life christian say don does think world good believe word just know way law christians true\n",
            "Topic #9: earth orbit sun mass software probe planetary moon star surface jupiter planet book venus astronomy data light km search energy\n",
            "\n"
          ],
          "name": "stdout"
        }
      ]
    },
    {
      "cell_type": "markdown",
      "metadata": {
        "id": "uuDjziAJkDbc",
        "colab_type": "text"
      },
      "source": [
        "Validating on training set"
      ]
    },
    {
      "cell_type": "code",
      "metadata": {
        "id": "b8YGEKvw91cs",
        "colab_type": "code",
        "outputId": "e8865f31-6501-4bef-e1bf-5d6472a92717",
        "colab": {
          "base_uri": "https://localhost:8080/",
          "height": 35
        }
      },
      "source": [
        "res_train = lda.transform(tf)\n",
        "res_train.shape"
      ],
      "execution_count": 0,
      "outputs": [
        {
          "output_type": "execute_result",
          "data": {
            "text/plain": [
              "(2151, 10)"
            ]
          },
          "metadata": {
            "tags": []
          },
          "execution_count": 20
        }
      ]
    },
    {
      "cell_type": "code",
      "metadata": {
        "id": "LeIMwKJw-8qj",
        "colab_type": "code",
        "outputId": "684e9a24-1be0-47ca-95a0-9cc12b725e03",
        "colab": {
          "base_uri": "https://localhost:8080/",
          "height": 52
        }
      },
      "source": [
        "res_train[0]"
      ],
      "execution_count": 0,
      "outputs": [
        {
          "output_type": "execute_result",
          "data": {
            "text/plain": [
              "array([0.06856659, 0.0013335 , 0.00133379, 0.00133359, 0.03080147,\n",
              "       0.00133347, 0.00133359, 0.00133359, 0.89129694, 0.00133346])"
            ]
          },
          "metadata": {
            "tags": []
          },
          "execution_count": 31
        }
      ]
    },
    {
      "cell_type": "code",
      "metadata": {
        "id": "61ZH59TsBKTZ",
        "colab_type": "code",
        "outputId": "7e3c0ca7-135c-4265-8ddf-34b06500dfb5",
        "colab": {
          "base_uri": "https://localhost:8080/",
          "height": 55
        }
      },
      "source": [
        "training_data[0]"
      ],
      "execution_count": 0,
      "outputs": [
        {
          "output_type": "execute_result",
          "data": {
            "text/plain": [
              "\" based on the amount of email from fellow christians who have read the posts and told me i was wasting my time with butler and joslin i told them i wasn't doing it for db or  dj but for other christians  they have told me that db's and dj's arguments won't convince most bible studying christians  so i have reevaluated my purpose here and it's also contributed to my decision so most biblestudying christians won't be convinced by my arguments  and this is supposed to be a good thing i presumewhere does this most bible studying christians think as frankdoes come from  and what implied good are you doing for otherchristiansat least some of what you are teaching has been demonstrated aswrong  has it ever occured to you that you may be doing more harmthan good to your fellow christiansbtw i used to think like frank does  i went to a fundamentalistchurch for a while  i didn't start to really think about whatthey were saying until i noticed a god's science phamphletthere  i read it and noticed that the authors of it knew virtuallynothing about science  i asked church members some questions abouttheories from the phamphlet and got only deceptive answers  ibegan to notice a very similar style of answers for theologicalquestions as well  the only conclusion i could reach was thatthese peoples' beliefs about the bible were about as valid astheir beliefs in their god's science phamphlet if there are still people out there who think that my purpose here is to attack the bible an accusation frank once made i would point out that i have also criticized people who have posted bible contradictions that turn out to be silly out of context or easily and legitimately reconciled  i'm not attacking the bible but  intellectual dishonesty about the bible from either sideif one of the primary purposes of christians is to seek out truthhow can people condemn you for doing this\""
            ]
          },
          "metadata": {
            "tags": []
          },
          "execution_count": 25
        }
      ]
    },
    {
      "cell_type": "code",
      "metadata": {
        "id": "OWnJhgyEBPR4",
        "colab_type": "code",
        "outputId": "cb86b8aa-1491-4f80-8963-c9b75b6d33fb",
        "colab": {
          "base_uri": "https://localhost:8080/",
          "height": 35
        }
      },
      "source": [
        "newsgroups_train.target_names[newsgroups_train.target[0]]"
      ],
      "execution_count": 0,
      "outputs": [
        {
          "output_type": "execute_result",
          "data": {
            "text/plain": [
              "'talk.religion.misc'"
            ]
          },
          "metadata": {
            "tags": []
          },
          "execution_count": 26
        }
      ]
    },
    {
      "cell_type": "markdown",
      "metadata": {
        "id": "ZUmiEy5nkKE9",
        "colab_type": "text"
      },
      "source": [
        "Validating on test set"
      ]
    },
    {
      "cell_type": "code",
      "metadata": {
        "id": "lSQPuefhBYqw",
        "colab_type": "code",
        "outputId": "ca91e1bc-882a-4b22-a22d-7c3868ac1b4c",
        "colab": {
          "base_uri": "https://localhost:8080/",
          "height": 35
        }
      },
      "source": [
        "tf_test = tf_vectorizer.transform(test_data)\n",
        "res_test = lda.transform(tf_test)\n",
        "res_test.shape"
      ],
      "execution_count": 0,
      "outputs": [
        {
          "output_type": "execute_result",
          "data": {
            "text/plain": [
              "(1431, 10)"
            ]
          },
          "metadata": {
            "tags": []
          },
          "execution_count": 27
        }
      ]
    },
    {
      "cell_type": "code",
      "metadata": {
        "id": "rRQqSPDACrHw",
        "colab_type": "code",
        "outputId": "32cbc185-7f53-4485-9e1f-2a6fabd47cce",
        "colab": {
          "base_uri": "https://localhost:8080/",
          "height": 35
        }
      },
      "source": [
        "np.argmax(res_test[3])"
      ],
      "execution_count": 0,
      "outputs": [
        {
          "output_type": "execute_result",
          "data": {
            "text/plain": [
              "1"
            ]
          },
          "metadata": {
            "tags": []
          },
          "execution_count": 29
        }
      ]
    },
    {
      "cell_type": "code",
      "metadata": {
        "id": "baYGhkpRCvBN",
        "colab_type": "code",
        "outputId": "b07676d6-c969-4bb0-a2ae-025dac5e2e70",
        "colab": {
          "base_uri": "https://localhost:8080/",
          "height": 55
        }
      },
      "source": [
        "test_data[3]"
      ],
      "execution_count": 0,
      "outputs": [
        {
          "output_type": "execute_result",
          "data": {
            "text/plain": [
              "\"i like this statement though for my own reasons  cost comparisons dependa lot on whether the two options are similar and then it becomes veryrevealing to consider what their differences are  can soyuz launch thelong exposure facility  course not  will the shuttle take my television relay to leo by year's end  almost certainly not but the russians arepretty good about making space accessible on a tight schedulecomparing s and ss points up that there are two active spacelauncherandworkplatform resources with similarities and differenceswhere they are in direct competition we may get to see some marketeconomics come into playtombaker\""
            ]
          },
          "metadata": {
            "tags": []
          },
          "execution_count": 28
        }
      ]
    },
    {
      "cell_type": "code",
      "metadata": {
        "id": "5jRgjKr0CyNs",
        "colab_type": "code",
        "outputId": "63af6229-daf1-4498-e306-428160e513ba",
        "colab": {
          "base_uri": "https://localhost:8080/",
          "height": 35
        }
      },
      "source": [
        "newsgroups_test.target_names[newsgroups_test.target[3]]"
      ],
      "execution_count": 0,
      "outputs": [
        {
          "output_type": "execute_result",
          "data": {
            "text/plain": [
              "'sci.space'"
            ]
          },
          "metadata": {
            "tags": []
          },
          "execution_count": 30
        }
      ]
    },
    {
      "cell_type": "code",
      "metadata": {
        "id": "MKcL6TPGC198",
        "colab_type": "code",
        "colab": {}
      },
      "source": [
        "https://towardsdatascience.com/end-to-end-topic-modeling-in-python-latent-dirichlet-allocation-lda-35ce4ed6b3e0"
      ],
      "execution_count": 0,
      "outputs": []
    }
  ]
}